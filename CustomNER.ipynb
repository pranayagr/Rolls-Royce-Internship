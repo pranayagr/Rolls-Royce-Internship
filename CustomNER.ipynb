{
  "nbformat": 4,
  "nbformat_minor": 0,
  "metadata": {
    "colab": {
      "name": "CustomNER.ipynb",
      "provenance": []
    },
    "kernelspec": {
      "name": "python3",
      "display_name": "Python 3"
    },
    "language_info": {
      "name": "python"
    }
  },
  "cells": [
    {
      "cell_type": "code",
      "metadata": {
        "id": "7aFYJ81y5OUO"
      },
      "source": [
        "# Pranay Agrawal\n",
        "# Custom Named Entity Recognition Model in spacy"
      ],
      "execution_count": 1,
      "outputs": []
    },
    {
      "cell_type": "code",
      "metadata": {
        "id": "qqMaCbI6T9PK"
      },
      "source": [
        "# List of training data. More data needs to be appended in the same formate as below.\n",
        "train = [\n",
        "         (\"On January 26, 2020, about 0946 Pacific standard time, a Sikorsky S-76B helicopter, N72EX, entered a rapidly descending left turn and crashed into terrain in Calabasas, California\", {\"entities\": [(3,18,\"DATE\"), (27,52,\"TIME\"), (57,88,\"EQUIPMENT\"), (101,153,\"TYPE_ACCIDENT\"),(158,178,\"LOCATION\")]}),\n",
        "         (\"The pilot and eight passengers died, and the helicopter was destroyed\", {\"entities\": [(4,8,\"AGENT\"),(45,54,\"EQUIPMENT\"),(60,68,\"EQUIPMENT_STATE\")]}),\n",
        "         (\"The on-demand flight was operated by Island Express Helicopters Inc. (Island Express), Long Beach, California, under visual flight rules and the provisions of Title 14 Code of Federal Regulations Part 135\", {\"entities\": [(37,67,\"OPERATOR\"),(159,203,\"DOCUMENTATION\")]}),\n",
        "]"
      ],
      "execution_count": 2,
      "outputs": []
    },
    {
      "cell_type": "code",
      "metadata": {
        "id": "AoWmBKD1CCaw"
      },
      "source": [
        "import spacy"
      ],
      "execution_count": 3,
      "outputs": []
    },
    {
      "cell_type": "code",
      "metadata": {
        "id": "ilD7CL454dZG"
      },
      "source": [
        "# Creating my own nlp model to train the custom NER so as to avoid the 'Catastrophing Forgetting' of the pre-built model\n",
        "nlp = spacy.blank('en')"
      ],
      "execution_count": 4,
      "outputs": []
    },
    {
      "cell_type": "code",
      "metadata": {
        "colab": {
          "base_uri": "https://localhost:8080/"
        },
        "id": "7n1BVvC_4iRZ",
        "outputId": "801a70a0-526a-4e24-a954-8e2de9e55398"
      },
      "source": [
        "# Check the already present pipes in the model (here it will be null since I built a blank model)\n",
        "nlp.pipe_names"
      ],
      "execution_count": 5,
      "outputs": [
        {
          "output_type": "execute_result",
          "data": {
            "text/plain": [
              "[]"
            ]
          },
          "metadata": {},
          "execution_count": 5
        }
      ]
    },
    {
      "cell_type": "code",
      "metadata": {
        "id": "29ztiYqJ4kFL"
      },
      "source": [
        "# Add a NER pipe in the model\n",
        "ner = nlp.create_pipe('ner')\n",
        "nlp.add_pipe(ner)"
      ],
      "execution_count": 6,
      "outputs": []
    },
    {
      "cell_type": "code",
      "metadata": {
        "id": "JJPN1qES4taT"
      },
      "source": [
        "# Adding my domain related annotations (label) in the ner pipeline\n",
        "for text, annotations in train:\n",
        "  for ent in annotations.get(\"entities\"):\n",
        "    ner.add_label(ent[2])"
      ],
      "execution_count": 7,
      "outputs": []
    },
    {
      "cell_type": "code",
      "metadata": {
        "id": "X9lNsmcc5M7c"
      },
      "source": [
        "# Store pipelines other than 'ner' so as to ignore them during the training process (general case)\n",
        "disable_pipes = [pipe for pipe in nlp.pipe_names if pipe != 'ner']"
      ],
      "execution_count": 8,
      "outputs": []
    },
    {
      "cell_type": "code",
      "metadata": {
        "colab": {
          "base_uri": "https://localhost:8080/"
        },
        "id": "40MSHhsP50t2",
        "outputId": "67a70697-b51c-4111-bb4d-aab612a093a2"
      },
      "source": [
        "# Code for training process\n",
        "\n",
        "from pathlib import Path\n",
        "import random\n",
        "from spacy.util import minibatch, compounding\n",
        "\n",
        "with nlp.disable_pipes(*disable_pipes):\n",
        "  optimizer = nlp.begin_training()\n",
        "\n",
        "  for iteration in range(100):\n",
        "\n",
        "    random.shuffle(train)\n",
        "    losses = {}\n",
        "    \n",
        "    ## Divide training data in batches if there is a lot of training data with following 2 lines\n",
        "    # batches = minibatch(train, size = compounding(1.0,4.0,1.001))\n",
        "    # for batch in batches:\n",
        "\n",
        "    for data in train:\n",
        "      text, annotation = zip(data)\n",
        "      nlp.update(text, annotation, drop = 0.5, losses = losses, sgd = optimizer)\n",
        "      print(\"Lossess: \", losses)"
      ],
      "execution_count": 9,
      "outputs": [
        {
          "output_type": "stream",
          "name": "stdout",
          "text": [
            "Lossess:  {'ner': 9.442107206210494}\n",
            "Lossess:  {'ner': 15.696365820243955}\n",
            "Lossess:  {'ner': 40.59151098318398}\n",
            "Lossess:  {'ner': 8.256133118644357}\n",
            "Lossess:  {'ner': 33.04715936630964}\n",
            "Lossess:  {'ner': 41.856491120532155}\n",
            "Lossess:  {'ner': 8.43707790132612}\n",
            "Lossess:  {'ner': 31.913808583281934}\n",
            "Lossess:  {'ner': 40.202425139024854}\n",
            "Lossess:  {'ner': 23.123097280040383}\n",
            "Lossess:  {'ner': 30.899084135890007}\n",
            "Lossess:  {'ner': 37.31248202268034}\n",
            "Lossess:  {'ner': 16.80764506245032}\n",
            "Lossess:  {'ner': 22.652341899927706}\n",
            "Lossess:  {'ner': 27.359437748324126}\n",
            "Lossess:  {'ner': 5.523990992456675}\n",
            "Lossess:  {'ner': 14.459380786400288}\n",
            "Lossess:  {'ner': 17.80390716297552}\n",
            "Lossess:  {'ner': 2.1990169469208922}\n",
            "Lossess:  {'ner': 2.360724396952719}\n",
            "Lossess:  {'ner': 3.060508625501825}\n",
            "Lossess:  {'ner': 0.5175591639890627}\n",
            "Lossess:  {'ner': 0.623228963215297}\n",
            "Lossess:  {'ner': 0.6956192496789129}\n",
            "Lossess:  {'ner': 0.018126214200067103}\n",
            "Lossess:  {'ner': 0.01813416402630784}\n",
            "Lossess:  {'ner': 0.018660687644299515}\n",
            "Lossess:  {'ner': 0.0004009420435328098}\n",
            "Lossess:  {'ner': 0.0016797977454725364}\n",
            "Lossess:  {'ner': 0.0016798038647874458}\n",
            "Lossess:  {'ner': 7.70547138221506e-09}\n",
            "Lossess:  {'ner': 2.0350581440704258e-08}\n",
            "Lossess:  {'ner': 2.0352448870035854e-08}\n",
            "Lossess:  {'ner': 4.542166974686288e-06}\n",
            "Lossess:  {'ner': 4.542609684967045e-06}\n",
            "Lossess:  {'ner': 5.4138957841296375e-06}\n",
            "Lossess:  {'ner': 3.472628594188456e-11}\n",
            "Lossess:  {'ner': 3.472634215053572e-11}\n",
            "Lossess:  {'ner': 3.4738529281654545e-11}\n",
            "Lossess:  {'ner': 1.1430568548364475e-13}\n",
            "Lossess:  {'ner': 1.171173358576068e-13}\n",
            "Lossess:  {'ner': 1.1721505013405354e-13}\n",
            "Lossess:  {'ner': 2.1999100228271874e-15}\n",
            "Lossess:  {'ner': 2.6300800095225726e-15}\n",
            "Lossess:  {'ner': 2.978368288510922e-14}\n",
            "Lossess:  {'ner': 5.4467016232497086e-18}\n",
            "Lossess:  {'ner': 5.710421234168244e-18}\n",
            "Lossess:  {'ner': 1.9481764661807267e-16}\n",
            "Lossess:  {'ner': 2.2564566313857155e-18}\n",
            "Lossess:  {'ner': 7.280517976461813e-17}\n",
            "Lossess:  {'ner': 7.280518776593206e-17}\n",
            "Lossess:  {'ner': 3.602652244601192e-16}\n",
            "Lossess:  {'ner': 3.745777811369676e-16}\n",
            "Lossess:  {'ner': 1.4603889953721574e-15}\n",
            "Lossess:  {'ner': 3.2134001743021754e-20}\n",
            "Lossess:  {'ner': 3.214838760556414e-20}\n",
            "Lossess:  {'ner': 3.2537658463859586e-19}\n",
            "Lossess:  {'ner': 1.645105307917363e-16}\n",
            "Lossess:  {'ner': 1.645105323825916e-16}\n",
            "Lossess:  {'ner': 1.6451053627349833e-16}\n",
            "Lossess:  {'ner': 3.440233773327807e-27}\n",
            "Lossess:  {'ner': 3.3476445751910836e-17}\n",
            "Lossess:  {'ner': 3.3476446708234585e-17}\n",
            "Lossess:  {'ner': 1.2592968315492522e-18}\n",
            "Lossess:  {'ner': 1.2645398288989634e-18}\n",
            "Lossess:  {'ner': 1.2650840177312963e-18}\n",
            "Lossess:  {'ner': 1.6159834256950226e-19}\n",
            "Lossess:  {'ner': 1.70658232344111e-19}\n",
            "Lossess:  {'ner': 1.726565595032499e-19}\n",
            "Lossess:  {'ner': 8.848666484518074e-20}\n",
            "Lossess:  {'ner': 8.848673904983503e-20}\n",
            "Lossess:  {'ner': 9.71739767752663e-20}\n",
            "Lossess:  {'ner': 2.739459678538371e-22}\n",
            "Lossess:  {'ner': 3.148968320789687e-22}\n",
            "Lossess:  {'ner': 7.427594362816148e-21}\n",
            "Lossess:  {'ner': 5.612183019755997e-26}\n",
            "Lossess:  {'ner': 2.3514859458052083e-22}\n",
            "Lossess:  {'ner': 2.3515207455576886e-22}\n",
            "Lossess:  {'ner': 2.254632634673386e-24}\n",
            "Lossess:  {'ner': 2.9008774104286918e-18}\n",
            "Lossess:  {'ner': 2.933731901702988e-18}\n",
            "Lossess:  {'ner': 1.2041549425584449e-26}\n",
            "Lossess:  {'ner': 8.953441933849914e-16}\n",
            "Lossess:  {'ner': 8.953474653331163e-16}\n",
            "Lossess:  {'ner': 6.211875506079759e-18}\n",
            "Lossess:  {'ner': 6.216133036781301e-18}\n",
            "Lossess:  {'ner': 3.3810332916438874e-17}\n",
            "Lossess:  {'ner': 4.582562316223394e-17}\n",
            "Lossess:  {'ner': 4.5831812368160645e-17}\n",
            "Lossess:  {'ner': 4.586691717244389e-17}\n",
            "Lossess:  {'ner': 5.268036072428317e-22}\n",
            "Lossess:  {'ner': 1.468952412616369e-20}\n",
            "Lossess:  {'ner': 1.4689589898196918e-20}\n",
            "Lossess:  {'ner': 3.980089625749912e-18}\n",
            "Lossess:  {'ner': 3.980089630753722e-18}\n",
            "Lossess:  {'ner': 3.9800896307546155e-18}\n",
            "Lossess:  {'ner': 1.5758708586845711e-22}\n",
            "Lossess:  {'ner': 1.5782112960727853e-22}\n",
            "Lossess:  {'ner': 1.5782112977982687e-22}\n",
            "Lossess:  {'ner': 1.1136298618751422e-23}\n",
            "Lossess:  {'ner': 6.375558642318904e-22}\n",
            "Lossess:  {'ner': 9.445355671715106e-21}\n",
            "Lossess:  {'ner': 5.297681291069253e-23}\n",
            "Lossess:  {'ner': 1.9145208791516782e-17}\n",
            "Lossess:  {'ner': 1.9145346672764833e-17}\n",
            "Lossess:  {'ner': 1.0643359797716198e-24}\n",
            "Lossess:  {'ner': 1.34235982455013e-19}\n",
            "Lossess:  {'ner': 1.1348434675268936e-16}\n",
            "Lossess:  {'ner': 1.4819934952875705e-21}\n",
            "Lossess:  {'ner': 2.347129862330674e-17}\n",
            "Lossess:  {'ner': 2.3471343146996352e-17}\n",
            "Lossess:  {'ner': 1.6695944911059078e-20}\n",
            "Lossess:  {'ner': 1.6738464557852185e-20}\n",
            "Lossess:  {'ner': 1.6740308686115295e-20}\n",
            "Lossess:  {'ner': 3.842387864625197e-22}\n",
            "Lossess:  {'ner': 1.2474124946436927e-21}\n",
            "Lossess:  {'ner': 1.637868105427832e-21}\n",
            "Lossess:  {'ner': 1.116164477555039e-17}\n",
            "Lossess:  {'ner': 1.3465222886738782e-17}\n",
            "Lossess:  {'ner': 1.4696548188453656e-17}\n",
            "Lossess:  {'ner': 6.27310032518832e-18}\n",
            "Lossess:  {'ner': 6.273427959591126e-18}\n",
            "Lossess:  {'ner': 6.273429682088432e-18}\n",
            "Lossess:  {'ner': 2.84190204681601e-23}\n",
            "Lossess:  {'ner': 4.4211191833690873e-23}\n",
            "Lossess:  {'ner': 3.3166416277296055e-18}\n",
            "Lossess:  {'ner': 4.2092508404141604e-20}\n",
            "Lossess:  {'ner': 4.0422232971832424e-19}\n",
            "Lossess:  {'ner': 8.60884471028479e-19}\n",
            "Lossess:  {'ner': 1.7682399429135614e-25}\n",
            "Lossess:  {'ner': 4.189463049885953e-13}\n",
            "Lossess:  {'ner': 4.1894815578617093e-13}\n",
            "Lossess:  {'ner': 1.1299849631091654e-20}\n",
            "Lossess:  {'ner': 3.4862670141054333e-19}\n",
            "Lossess:  {'ner': 3.486267014702821e-19}\n",
            "Lossess:  {'ner': 1.0502670776737219e-17}\n",
            "Lossess:  {'ner': 1.050571613317669e-17}\n",
            "Lossess:  {'ner': 1.0505716133738995e-17}\n",
            "Lossess:  {'ner': 2.277793210824705e-18}\n",
            "Lossess:  {'ner': 2.2778047148935576e-18}\n",
            "Lossess:  {'ner': 2.6420332600832184e-16}\n",
            "Lossess:  {'ner': 8.610599059947997e-20}\n",
            "Lossess:  {'ner': 8.610618658134205e-20}\n",
            "Lossess:  {'ner': 8.646982533030492e-20}\n",
            "Lossess:  {'ner': 4.222379918704671e-18}\n",
            "Lossess:  {'ner': 4.439635469370598e-18}\n",
            "Lossess:  {'ner': 4.727189849629417e-18}\n",
            "Lossess:  {'ner': 3.563151834688716e-20}\n",
            "Lossess:  {'ner': 1.1034692931472238e-17}\n",
            "Lossess:  {'ner': 1.3005346120975017e-17}\n",
            "Lossess:  {'ner': 8.9901974741887e-23}\n",
            "Lossess:  {'ner': 1.3530276030483603e-19}\n",
            "Lossess:  {'ner': 1.4532968830174628e-18}\n",
            "Lossess:  {'ner': 1.436508659898535e-22}\n",
            "Lossess:  {'ner': 6.697869893271471e-22}\n",
            "Lossess:  {'ner': 6.698607341092487e-22}\n",
            "Lossess:  {'ner': 2.300440133236919e-22}\n",
            "Lossess:  {'ner': 3.2602753818286573e-22}\n",
            "Lossess:  {'ner': 4.8199012106521125e-18}\n",
            "Lossess:  {'ner': 2.7317501681963534e-22}\n",
            "Lossess:  {'ner': 5.845158531710052e-22}\n",
            "Lossess:  {'ner': 5.860033382014575e-22}\n",
            "Lossess:  {'ner': 5.366994164257518e-22}\n",
            "Lossess:  {'ner': 6.764082800345204e-22}\n",
            "Lossess:  {'ner': 1.8370435394687032e-20}\n",
            "Lossess:  {'ner': 3.2624622706588086e-24}\n",
            "Lossess:  {'ner': 1.1772942291070849e-17}\n",
            "Lossess:  {'ner': 1.1780750578792951e-17}\n",
            "Lossess:  {'ner': 2.756625384087904e-15}\n",
            "Lossess:  {'ner': 2.7566253939536167e-15}\n",
            "Lossess:  {'ner': 2.7566597652943924e-15}\n",
            "Lossess:  {'ner': 3.214029324784523e-22}\n",
            "Lossess:  {'ner': 4.476474770721583e-19}\n",
            "Lossess:  {'ner': 4.908413286480689e-19}\n",
            "Lossess:  {'ner': 8.63939082935507e-20}\n",
            "Lossess:  {'ner': 1.2229483664747902e-19}\n",
            "Lossess:  {'ner': 3.038180875444136e-18}\n",
            "Lossess:  {'ner': 9.491356262968187e-21}\n",
            "Lossess:  {'ner': 9.902765448129252e-19}\n",
            "Lossess:  {'ner': 9.964292440260797e-19}\n",
            "Lossess:  {'ner': 1.372211040208928e-25}\n",
            "Lossess:  {'ner': 1.2009945166262315e-21}\n",
            "Lossess:  {'ner': 4.1788008598430074e-18}\n",
            "Lossess:  {'ner': 4.1064541404885435e-19}\n",
            "Lossess:  {'ner': 4.108673433836977e-19}\n",
            "Lossess:  {'ner': 2.1188410757595315e-18}\n",
            "Lossess:  {'ner': 1.8106432626354272e-26}\n",
            "Lossess:  {'ner': 9.026557263757453e-18}\n",
            "Lossess:  {'ner': 9.093977918406862e-18}\n",
            "Lossess:  {'ner': 9.771949328597258e-24}\n",
            "Lossess:  {'ner': 1.456634001478925e-17}\n",
            "Lossess:  {'ner': 1.4574327043612852e-17}\n",
            "Lossess:  {'ner': 2.539220845973042e-16}\n",
            "Lossess:  {'ner': 2.539227851347252e-16}\n",
            "Lossess:  {'ner': 2.539415060711183e-16}\n",
            "Lossess:  {'ner': 3.14357237981155e-23}\n",
            "Lossess:  {'ner': 4.0688963972774674e-18}\n",
            "Lossess:  {'ner': 2.6667151529310793e-17}\n",
            "Lossess:  {'ner': 3.993429520549795e-21}\n",
            "Lossess:  {'ner': 3.994219105861516e-21}\n",
            "Lossess:  {'ner': 2.9754555390616216e-18}\n",
            "Lossess:  {'ner': 9.246579586264883e-18}\n",
            "Lossess:  {'ner': 9.25091148499954e-18}\n",
            "Lossess:  {'ner': 9.61910375817154e-18}\n",
            "Lossess:  {'ner': 3.469954165245162e-22}\n",
            "Lossess:  {'ner': 6.792416625015755e-17}\n",
            "Lossess:  {'ner': 6.79241688963842e-17}\n",
            "Lossess:  {'ner': 1.3970325291372431e-19}\n",
            "Lossess:  {'ner': 9.933298848121805e-17}\n",
            "Lossess:  {'ner': 1.0012420740471119e-16}\n",
            "Lossess:  {'ner': 9.998710342464655e-17}\n",
            "Lossess:  {'ner': 9.998721518288945e-17}\n",
            "Lossess:  {'ner': 9.998721518290281e-17}\n",
            "Lossess:  {'ner': 5.759283757187014e-24}\n",
            "Lossess:  {'ner': 9.90857353876112e-24}\n",
            "Lossess:  {'ner': 1.906112958274108e-20}\n",
            "Lossess:  {'ner': 1.2607088683795691e-25}\n",
            "Lossess:  {'ner': 1.6184297923951462e-20}\n",
            "Lossess:  {'ner': 4.0764673023680415e-20}\n",
            "Lossess:  {'ner': 2.040930581096489e-18}\n",
            "Lossess:  {'ner': 3.1175653342295946e-16}\n",
            "Lossess:  {'ner': 3.1175660189367764e-16}\n",
            "Lossess:  {'ner': 3.5503127885475843e-22}\n",
            "Lossess:  {'ner': 6.785185842693356e-17}\n",
            "Lossess:  {'ner': 6.785186594777047e-17}\n",
            "Lossess:  {'ner': 2.0359979927556266e-16}\n",
            "Lossess:  {'ner': 2.0359980087363067e-16}\n",
            "Lossess:  {'ner': 2.0359986133399455e-16}\n",
            "Lossess:  {'ner': 2.94679960939751e-15}\n",
            "Lossess:  {'ner': 2.946799618169083e-15}\n",
            "Lossess:  {'ner': 2.946820546215347e-15}\n",
            "Lossess:  {'ner': 1.9954540951348784e-18}\n",
            "Lossess:  {'ner': 1.9956677333717362e-18}\n",
            "Lossess:  {'ner': 1.9967273089068274e-18}\n",
            "Lossess:  {'ner': 1.5282662900545936e-25}\n",
            "Lossess:  {'ner': 4.129595112935045e-19}\n",
            "Lossess:  {'ner': 4.1296062652451795e-19}\n",
            "Lossess:  {'ner': 1.8904981689061955e-20}\n",
            "Lossess:  {'ner': 2.2183403207948598e-20}\n",
            "Lossess:  {'ner': 2.509756217732056e-18}\n",
            "Lossess:  {'ner': 2.1400634235391016e-20}\n",
            "Lossess:  {'ner': 2.1400634252246602e-20}\n",
            "Lossess:  {'ner': 2.1401859288992836e-20}\n",
            "Lossess:  {'ner': 9.613732426593608e-22}\n",
            "Lossess:  {'ner': 3.0768511321983056e-18}\n",
            "Lossess:  {'ner': 8.859290726864361e-18}\n",
            "Lossess:  {'ner': 4.0635881563135365e-19}\n",
            "Lossess:  {'ner': 6.380691259884341e-18}\n",
            "Lossess:  {'ner': 6.3806913845953e-18}\n",
            "Lossess:  {'ner': 3.9667199313940678e-19}\n",
            "Lossess:  {'ner': 3.9719783537068315e-19}\n",
            "Lossess:  {'ner': 7.281707044306003e-18}\n",
            "Lossess:  {'ner': 4.589611153542571e-22}\n",
            "Lossess:  {'ner': 7.236756832802608e-20}\n",
            "Lossess:  {'ner': 8.523257394158773e-20}\n",
            "Lossess:  {'ner': 3.5092966034890055e-18}\n",
            "Lossess:  {'ner': 3.509366467069504e-18}\n",
            "Lossess:  {'ner': 3.5147923252318645e-18}\n",
            "Lossess:  {'ner': 1.9805345548524107e-15}\n",
            "Lossess:  {'ner': 2.0010056170520443e-15}\n",
            "Lossess:  {'ner': 2.0014408972448195e-15}\n",
            "Lossess:  {'ner': 2.1881822811643247e-15}\n",
            "Lossess:  {'ner': 2.1969208703257034e-15}\n",
            "Lossess:  {'ner': 2.2021773919976347e-15}\n",
            "Lossess:  {'ner': 1.0279725145807027e-18}\n",
            "Lossess:  {'ner': 4.205709704416634e-17}\n",
            "Lossess:  {'ner': 4.205715871788041e-17}\n",
            "Lossess:  {'ner': 4.175273444835525e-22}\n",
            "Lossess:  {'ner': 3.008130985542126e-20}\n",
            "Lossess:  {'ner': 9.702937295303621e-18}\n",
            "Lossess:  {'ner': 1.0553666079495092e-23}\n",
            "Lossess:  {'ner': 2.81017626861636e-19}\n",
            "Lossess:  {'ner': 2.9181690645615375e-19}\n",
            "Lossess:  {'ner': 7.860526815656624e-20}\n",
            "Lossess:  {'ner': 7.870719588173744e-20}\n",
            "Lossess:  {'ner': 7.273202455643929e-11}\n",
            "Lossess:  {'ner': 5.636883631346773e-17}\n",
            "Lossess:  {'ner': 5.637021348502013e-17}\n",
            "Lossess:  {'ner': 5.638481522329267e-17}\n",
            "Lossess:  {'ner': 3.5555597175581677e-20}\n",
            "Lossess:  {'ner': 1.285302485038841e-18}\n",
            "Lossess:  {'ner': 1.2855923380527298e-18}\n",
            "Lossess:  {'ner': 1.4000231248258933e-20}\n",
            "Lossess:  {'ner': 3.100797761129922e-18}\n",
            "Lossess:  {'ner': 3.1007977617552682e-18}\n",
            "Lossess:  {'ner': 5.3070212817327104e-21}\n",
            "Lossess:  {'ner': 5.307149277020623e-21}\n",
            "Lossess:  {'ner': 4.7280721235898655e-19}\n",
            "Lossess:  {'ner': 3.479766829816547e-25}\n",
            "Lossess:  {'ner': 1.955289796454647e-18}\n",
            "Lossess:  {'ner': 1.955289796454681e-18}\n",
            "Lossess:  {'ner': 1.380239163770107e-27}\n",
            "Lossess:  {'ner': 1.4091639517751803e-17}\n",
            "Lossess:  {'ner': 5.534802013716637e-14}\n",
            "Lossess:  {'ner': 3.589255279200202e-22}\n",
            "Lossess:  {'ner': 3.608896808709258e-21}\n",
            "Lossess:  {'ner': 7.510199713360317e-21}\n",
            "Lossess:  {'ner': 8.920762295514288e-29}\n",
            "Lossess:  {'ner': 1.4819742722196605e-17}\n",
            "Lossess:  {'ner': 1.4819759697579513e-17}\n"
          ]
        }
      ]
    },
    {
      "cell_type": "code",
      "metadata": {
        "colab": {
          "base_uri": "https://localhost:8080/"
        },
        "id": "snIqm8w9OvDC",
        "outputId": "4bb9e2b6-0aed-46da-d3a3-1ad3cfaebfaa"
      },
      "source": [
        "for text, _ in train:\n",
        "  doc = nlp(text)\n",
        "  print('Entities', [(ent.text, ent.label_) for ent in doc.ents])"
      ],
      "execution_count": 10,
      "outputs": [
        {
          "output_type": "stream",
          "name": "stdout",
          "text": [
            "Entities []\n",
            "Entities []\n",
            "Entities []\n"
          ]
        }
      ]
    },
    {
      "cell_type": "markdown",
      "metadata": {
        "id": "4sjyFdB_UM9z"
      },
      "source": [
        "Increase the training data so that the model can look something and learn"
      ]
    },
    {
      "cell_type": "code",
      "metadata": {
        "id": "vizDPHL7TsKR"
      },
      "source": [
        ""
      ],
      "execution_count": null,
      "outputs": []
    }
  ]
}