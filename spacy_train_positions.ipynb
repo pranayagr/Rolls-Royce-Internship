{
 "cells": [
  {
   "cell_type": "code",
   "execution_count": 30,
   "id": "9761601f",
   "metadata": {},
   "outputs": [],
   "source": [
    "string = \"The on-demand flight was operated by Island Express Helicopters Inc. (Island Express), Long Beach, California, under visual flight rules and the provisions of Title 14 Code of Federal Regulations Part 135\""
   ]
  },
  {
   "cell_type": "code",
   "execution_count": 34,
   "id": "23c773a5",
   "metadata": {},
   "outputs": [],
   "source": [
    "key = \"Title 14 Code of Federal Regulations Part 135\""
   ]
  },
  {
   "cell_type": "code",
   "execution_count": 35,
   "id": "fc821eea",
   "metadata": {},
   "outputs": [
    {
     "data": {
      "text/plain": [
       "159"
      ]
     },
     "execution_count": 35,
     "metadata": {},
     "output_type": "execute_result"
    }
   ],
   "source": [
    "string.find(key)"
   ]
  },
  {
   "cell_type": "code",
   "execution_count": 36,
   "id": "fd96a6c3",
   "metadata": {},
   "outputs": [
    {
     "data": {
      "text/plain": [
       "203"
      ]
     },
     "execution_count": 36,
     "metadata": {},
     "output_type": "execute_result"
    }
   ],
   "source": [
    "string.find(key)+len(key)-1"
   ]
  },
  {
   "cell_type": "code",
   "execution_count": null,
   "id": "0481a8f0",
   "metadata": {},
   "outputs": [],
   "source": []
  }
 ],
 "metadata": {
  "kernelspec": {
   "display_name": "Python 3",
   "language": "python",
   "name": "python3"
  },
  "language_info": {
   "codemirror_mode": {
    "name": "ipython",
    "version": 3
   },
   "file_extension": ".py",
   "mimetype": "text/x-python",
   "name": "python",
   "nbconvert_exporter": "python",
   "pygments_lexer": "ipython3",
   "version": "3.8.5"
  }
 },
 "nbformat": 4,
 "nbformat_minor": 5
}
